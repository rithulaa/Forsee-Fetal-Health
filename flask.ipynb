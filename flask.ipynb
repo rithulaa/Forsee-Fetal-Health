{
 "cells": [
  {
   "cell_type": "code",
   "execution_count": null,
   "id": "07768c1c",
   "metadata": {
    "scrolled": true
   },
   "outputs": [
    {
     "name": "stderr",
     "output_type": "stream",
     "text": [
      " * Running on http://localhost:9000/ (Press CTRL+C to quit)\n",
      "127.0.0.1 - - [27/Jan/2022 22:54:37] \"\u001b[37mGET / HTTP/1.1\u001b[0m\" 200 -\n",
      "127.0.0.1 - - [27/Jan/2022 22:54:37] \"\u001b[37mGET /static/crawling.png HTTP/1.1\u001b[0m\" 200 -\n",
      "127.0.0.1 - - [27/Jan/2022 22:54:37] \"\u001b[33mGET /favicon.ico HTTP/1.1\u001b[0m\" 404 -\n",
      "127.0.0.1 - - [27/Jan/2022 22:55:59] \"\u001b[37mGET /Guidelines HTTP/1.1\u001b[0m\" 200 -\n",
      "127.0.0.1 - - [27/Jan/2022 22:56:00] \"\u001b[37mGET /static/bhr.jpg HTTP/1.1\u001b[0m\" 200 -\n",
      "127.0.0.1 - - [27/Jan/2022 22:56:00] \"\u001b[37mGET /static/uc.jpg HTTP/1.1\u001b[0m\" 200 -\n",
      "127.0.0.1 - - [27/Jan/2022 22:56:00] \"\u001b[37mGET /static/acc.jpg HTTP/1.1\u001b[0m\" 200 -\n",
      "127.0.0.1 - - [27/Jan/2022 22:56:00] \"\u001b[37mGET /static/dec.jpg HTTP/1.1\u001b[0m\" 200 -\n",
      "127.0.0.1 - - [27/Jan/2022 22:56:00] \"\u001b[37mGET /static/var.jpg HTTP/1.1\u001b[0m\" 200 -\n",
      "127.0.0.1 - - [27/Jan/2022 22:57:17] \"\u001b[37mGET /Predict HTTP/1.1\u001b[0m\" 200 -\n",
      "127.0.0.1 - - [27/Jan/2022 22:58:36] \"\u001b[37mGET /Guidelines HTTP/1.1\u001b[0m\" 200 -\n",
      "127.0.0.1 - - [27/Jan/2022 22:59:52] \"\u001b[37mGET /Predict HTTP/1.1\u001b[0m\" 200 -\n",
      "127.0.0.1 - - [27/Jan/2022 23:00:19] \"\u001b[37mPOST /Send HTTP/1.1\u001b[0m\" 200 -\n",
      "127.0.0.1 - - [27/Jan/2022 23:00:19] \"\u001b[37mGET /static/baby.jpg HTTP/1.1\u001b[0m\" 200 -\n",
      "127.0.0.1 - - [27/Jan/2022 23:01:11] \"\u001b[37mPOST /Send HTTP/1.1\u001b[0m\" 200 -\n",
      "127.0.0.1 - - [27/Jan/2022 23:01:36] \"\u001b[37mPOST /Send HTTP/1.1\u001b[0m\" 200 -\n"
     ]
    }
   ],
   "source": [
    "from flask import Flask ,render_template,request,flash,redirect\n",
    "import pickle\n",
    "import numpy as np\n",
    "import pandas as pd\n",
    "from sklearn.preprocessing import StandardScaler\n",
    "from sklearn.pipeline import Pipeline\n",
    "\n",
    "app = Flask(__name__, template_folder='templates')\n",
    "model = pickle.load(open('model.pkl', 'rb')) \n",
    "\n",
    "@app.route('/')\n",
    "@app.route(\"/Home\")\n",
    "def home():\n",
    "    return render_template(\"index.html\")\n",
    "\n",
    "@app.route(\"/Guidelines\")\n",
    "def guide():\n",
    "    return render_template(\"guide.html\")\n",
    "\n",
    "@app.route(\"/Predict\")\n",
    "def predict():\n",
    "    return render_template(\"predict1.html\")\n",
    "\n",
    "def std_scalar(df):\n",
    "    std_X = StandardScaler()\n",
    "    x =  pd.DataFrame(std_X.fit_transform(df))\n",
    "    return x\n",
    "\n",
    "def pipeline(features):\n",
    "    steps = [('scaler', StandardScaler()), ('XTC', model)]\n",
    "    pipe = Pipeline(steps)\n",
    "    return pipe.fit_transform(features)\n",
    "\n",
    "\n",
    "@app.route('/Send', methods=['POST'])\n",
    "def getdata():\n",
    "    features = [float() for x in request.form.values()]\n",
    "    final_features = [np.array(features)]\n",
    "\n",
    "    feature_transform=std_scalar(final_features)\n",
    "    # Using standard scalar method\n",
    "    prediction = model.predict(feature_transform)\n",
    "    if prediction==1:result=\"Healthy Baby!!!\"\n",
    "    elif prediction==2:result=\"Suspecting health issues!!!\"\n",
    "    elif prediction==3:result=\"Pathalogical baby, Please visit doctor!!!\"\n",
    "\n",
    "    Baseline_Heart = request.form['Baseline_Heart']\n",
    "    Fetal_Movement = request.form['Fetal_Movement']\n",
    "    Uterine_Contractions = request.form['Uterine_Contractions']\n",
    "    Accelerations = request.form['Accelerations']\n",
    "    Prolongued_Decelerations = request.form['Prolongued_Decelerations']\n",
    "    Abnormal_long_term_variability = request.form['Abnormal_long_term_variability']\n",
    "   \n",
    "    return render_template('view1.html', bh=Baseline_Heart, fm=Fetal_Movement,uc=Uterine_Contractions, a=Accelerations,\n",
    "                           pd=Prolongued_Decelerations, altv=Abnormal_long_term_variability, res=result)\n",
    "\n",
    "if __name__ == '__main__':\n",
    "    from werkzeug.serving import run_simple\n",
    "    run_simple('localhost', 9000, app)"
   ]
  },
  {
   "cell_type": "code",
   "execution_count": null,
   "id": "1a5110b4",
   "metadata": {},
   "outputs": [],
   "source": []
  }
 ],
 "metadata": {
  "kernelspec": {
   "display_name": "Python 3",
   "language": "python",
   "name": "python3"
  },
  "language_info": {
   "codemirror_mode": {
    "name": "ipython",
    "version": 3
   },
   "file_extension": ".py",
   "mimetype": "text/x-python",
   "name": "python",
   "nbconvert_exporter": "python",
   "pygments_lexer": "ipython3",
   "version": "3.8.8"
  }
 },
 "nbformat": 4,
 "nbformat_minor": 5
}
